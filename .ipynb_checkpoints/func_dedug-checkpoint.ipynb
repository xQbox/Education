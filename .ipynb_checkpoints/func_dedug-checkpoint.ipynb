{
 "cells": [
  {
   "cell_type": "code",
   "execution_count": 1,
   "id": "383bbaf3-f61b-4157-af62-78f1b20d1e1c",
   "metadata": {},
   "outputs": [
    {
     "name": "stdout",
     "output_type": "stream",
     "text": [
      " ��� � ���ன�⢥ E ����� ���� Samsung 980 pro \n",
      " ��਩�� ����� ⮬�: B60A-B3D7\n",
      "\n",
      " ����ন��� ����� e:\\Projects\\vkbot\\data_for_testing\n",
      "\n",
      "24.04.2024  15:00    <DIR>          .\n",
      "26.04.2024  11:32    <DIR>          ..\n",
      "24.04.2024  15:00           543�200 variant1.csv\n",
      "24.04.2024  15:00           541�601 variant10.csv\n",
      "24.04.2024  15:00           542�518 variant100.csv\n",
      "24.04.2024  15:00           542�323 variant11.csv\n",
      "24.04.2024  15:00           542�902 variant12.csv\n",
      "24.04.2024  15:00           543�389 variant13.csv\n",
      "24.04.2024  15:00           543�252 variant14.csv\n",
      "24.04.2024  15:00           542�364 variant15.csv\n",
      "24.04.2024  15:00           542�713 variant16.csv\n",
      "24.04.2024  15:00           542�132 variant17.csv\n",
      "24.04.2024  15:00           542�690 variant18.csv\n",
      "24.04.2024  15:00           542�803 variant19.csv\n",
      "24.04.2024  15:00           541�292 variant2.csv\n",
      "24.04.2024  15:00           543�082 variant20.csv\n",
      "24.04.2024  15:00           542�537 variant21.csv\n",
      "24.04.2024  15:00           542�467 variant22.csv\n",
      "24.04.2024  15:00           542�935 variant23.csv\n",
      "24.04.2024  15:00           542�558 variant24.csv\n",
      "24.04.2024  15:00           542�468 variant25.csv\n",
      "24.04.2024  15:00           543�403 variant26.csv\n",
      "24.04.2024  15:00           542�873 variant27.csv\n",
      "24.04.2024  15:00           542�055 variant28.csv\n",
      "24.04.2024  15:00           542�142 variant29.csv\n",
      "24.04.2024  15:00           542�393 variant3.csv\n",
      "24.04.2024  15:00           542�898 variant30.csv\n",
      "24.04.2024  15:00           542�093 variant31.csv\n",
      "24.04.2024  15:00           541�720 variant32.csv\n",
      "24.04.2024  15:00           542�143 variant33.csv\n",
      "24.04.2024  15:00           541�309 variant34.csv\n",
      "24.04.2024  15:00           543�071 variant35.csv\n",
      "24.04.2024  15:00           543�194 variant36.csv\n",
      "24.04.2024  15:00           542�734 variant37.csv\n",
      "24.04.2024  15:00           541�482 variant38.csv\n",
      "24.04.2024  15:00           543�409 variant39.csv\n",
      "24.04.2024  15:00           541�419 variant4.csv\n",
      "24.04.2024  15:00           540�917 variant40.csv\n",
      "24.04.2024  15:00           542�308 variant41.csv\n",
      "24.04.2024  15:00           544�042 variant42.csv\n",
      "24.04.2024  15:00           541�981 variant43.csv\n",
      "24.04.2024  15:00           541�919 variant44.csv\n",
      "24.04.2024  15:00           543�227 variant45.csv\n",
      "24.04.2024  15:00           543�045 variant46.csv\n",
      "24.04.2024  15:00           542�966 variant47.csv\n",
      "24.04.2024  15:00           543�993 variant48.csv\n",
      "24.04.2024  15:00           542�592 variant49.csv\n",
      "24.04.2024  15:00           541�736 variant5.csv\n",
      "24.04.2024  15:00           541�757 variant50.csv\n",
      "24.04.2024  15:00           541�697 variant51.csv\n",
      "24.04.2024  15:00           543�021 variant52.csv\n",
      "24.04.2024  15:00           542�346 variant53.csv\n",
      "24.04.2024  15:00           543�544 variant54.csv\n",
      "24.04.2024  15:00           542�906 variant55.csv\n",
      "24.04.2024  15:00           540�675 variant56.csv\n",
      "24.04.2024  15:00           542�199 variant57.csv\n",
      "24.04.2024  15:00           542�586 variant58.csv\n",
      "24.04.2024  15:00           541�771 variant59.csv\n",
      "24.04.2024  15:00           541�754 variant6.csv\n",
      "24.04.2024  15:00           542�129 variant60.csv\n",
      "24.04.2024  15:00           541�236 variant61.csv\n",
      "24.04.2024  15:00           542�265 variant62.csv\n",
      "24.04.2024  15:00           540�600 variant63.csv\n",
      "24.04.2024  15:00           543�536 variant64.csv\n",
      "24.04.2024  15:00           542�652 variant65.csv\n",
      "24.04.2024  15:00           540�029 variant66.csv\n",
      "24.04.2024  15:00           542�209 variant67.csv\n",
      "24.04.2024  15:00           542�557 variant68.csv\n",
      "24.04.2024  15:00           540�497 variant69.csv\n",
      "24.04.2024  15:00           541�267 variant7.csv\n",
      "24.04.2024  15:00           543�422 variant70.csv\n",
      "24.04.2024  15:00           542�545 variant71.csv\n",
      "24.04.2024  15:00           543�027 variant72.csv\n",
      "24.04.2024  15:00           542�753 variant73.csv\n",
      "24.04.2024  15:00           541�361 variant74.csv\n",
      "24.04.2024  15:00           544�198 variant75.csv\n",
      "24.04.2024  15:00           541�304 variant76.csv\n",
      "24.04.2024  15:00           542�455 variant77.csv\n",
      "24.04.2024  15:00           543�338 variant78.csv\n",
      "24.04.2024  15:00           543�500 variant79.csv\n",
      "24.04.2024  15:00           543�850 variant8.csv\n",
      "24.04.2024  15:00           541�196 variant80.csv\n",
      "24.04.2024  15:00           543�659 variant81.csv\n",
      "24.04.2024  15:00           543�359 variant82.csv\n",
      "24.04.2024  15:00           543�368 variant83.csv\n",
      "24.04.2024  15:00           544�142 variant84.csv\n",
      "24.04.2024  15:00           541�558 variant85.csv\n",
      "24.04.2024  15:00           542�684 variant86.csv\n",
      "24.04.2024  15:00           541�378 variant87.csv\n",
      "24.04.2024  15:00           542�282 variant88.csv\n",
      "24.04.2024  15:00           542�228 variant89.csv\n",
      "24.04.2024  15:00           542�320 variant9.csv\n",
      "24.04.2024  15:00           541�003 variant90.csv\n",
      "24.04.2024  15:00           541�698 variant91.csv\n",
      "24.04.2024  15:00           541�975 variant92.csv\n",
      "24.04.2024  15:00           541�748 variant93.csv\n",
      "24.04.2024  15:00           543�206 variant94.csv\n",
      "24.04.2024  15:00           542�768 variant95.csv\n",
      "24.04.2024  15:00           540�926 variant96.csv\n",
      "24.04.2024  15:00           541�600 variant97.csv\n",
      "24.04.2024  15:00           541�691 variant98.csv\n",
      "24.04.2024  15:00           541�850 variant99.csv\n",
      "             100 䠩���     54�237�915 ����\n",
      "               2 �����  546�837�184�512 ���� ᢮�����\n"
     ]
    }
   ],
   "source": [
    "%ls data_for_testing"
   ]
  },
  {
   "cell_type": "code",
   "execution_count": 23,
   "id": "d7729dfe-d27b-4c10-a116-053050f0230b",
   "metadata": {},
   "outputs": [
    {
     "ename": "ModuleNotFoundError",
     "evalue": "No module named 'pandas'",
     "output_type": "error",
     "traceback": [
      "\u001b[1;31m---------------------------------------------------------------------------\u001b[0m",
      "\u001b[1;31mModuleNotFoundError\u001b[0m                       Traceback (most recent call last)",
      "Cell \u001b[1;32mIn[23], line 1\u001b[0m\n\u001b[1;32m----> 1\u001b[0m \u001b[38;5;28;01mimport\u001b[39;00m \u001b[38;5;21;01mpandas\u001b[39;00m \u001b[38;5;28;01mas\u001b[39;00m \u001b[38;5;21;01mpd\u001b[39;00m\n\u001b[0;32m      2\u001b[0m \u001b[38;5;28;01mimport\u001b[39;00m \u001b[38;5;21;01mmatplotlib\u001b[39;00m \u001b[38;5;28;01mas\u001b[39;00m \u001b[38;5;21;01mplt\u001b[39;00m\n\u001b[0;32m      3\u001b[0m \u001b[38;5;28;01mimport\u001b[39;00m \u001b[38;5;21;01mos\u001b[39;00m\n",
      "\u001b[1;31mModuleNotFoundError\u001b[0m: No module named 'pandas'"
     ]
    }
   ],
   "source": [
    "import pandas as pd\n",
    "import matplotlib as plt\n",
    "import os\n",
    "\n",
    "current_dir = os.getcwd()\n",
    "dir_name = 'data_for_testing'\n",
    "filename = 'variant1.csv'\n",
    "absolute_path = os.path.join(current_dir, dir_name, filename)\n",
    "df = pd.read_csv(absolute_path, sep='\\t')\n",
    "df.head()\n"
   ]
  },
  {
   "cell_type": "code",
   "execution_count": 6,
   "id": "2a73227b-21ba-4ad2-a58f-24d5cb38be18",
   "metadata": {},
   "outputs": [
    {
     "ename": "NameError",
     "evalue": "name 'df' is not defined",
     "output_type": "error",
     "traceback": [
      "\u001b[1;31m---------------------------------------------------------------------------\u001b[0m",
      "\u001b[1;31mNameError\u001b[0m                                 Traceback (most recent call last)",
      "Cell \u001b[1;32mIn[6], line 1\u001b[0m\n\u001b[1;32m----> 1\u001b[0m \u001b[43mdf\u001b[49m\n",
      "\u001b[1;31mNameError\u001b[0m: name 'df' is not defined"
     ]
    }
   ],
   "source": [
    "df"
   ]
  },
  {
   "cell_type": "code",
   "execution_count": 7,
   "id": "777630ee-cfe8-44b9-af36-2d1a0707a1f5",
   "metadata": {},
   "outputs": [
    {
     "ename": "NameError",
     "evalue": "name 'df' is not defined",
     "output_type": "error",
     "traceback": [
      "\u001b[1;31m---------------------------------------------------------------------------\u001b[0m",
      "\u001b[1;31mNameError\u001b[0m                                 Traceback (most recent call last)",
      "Cell \u001b[1;32mIn[7], line 1\u001b[0m\n\u001b[1;32m----> 1\u001b[0m sort_res \u001b[38;5;241m=\u001b[39m \u001b[43mdf\u001b[49m\u001b[38;5;241m.\u001b[39msort_values(\u001b[38;5;124m'\u001b[39m\u001b[38;5;124mtimestamp\u001b[39m\u001b[38;5;124m'\u001b[39m)\n",
      "\u001b[1;31mNameError\u001b[0m: name 'df' is not defined"
     ]
    }
   ],
   "source": [
    "sort_res = df.sort_values('timestamp')"
   ]
  },
  {
   "cell_type": "code",
   "execution_count": 8,
   "id": "c7eaf22e-2f59-4ae8-a692-189d1df828c1",
   "metadata": {},
   "outputs": [
    {
     "ename": "NameError",
     "evalue": "name 'df' is not defined",
     "output_type": "error",
     "traceback": [
      "\u001b[1;31m---------------------------------------------------------------------------\u001b[0m",
      "\u001b[1;31mNameError\u001b[0m                                 Traceback (most recent call last)",
      "Cell \u001b[1;32mIn[8], line 3\u001b[0m\n\u001b[0;32m      1\u001b[0m n \u001b[38;5;241m=\u001b[39m \u001b[38;5;241m100\u001b[39m\n\u001b[0;32m      2\u001b[0m m \u001b[38;5;241m=\u001b[39m \u001b[38;5;241m100\u001b[39m\n\u001b[1;32m----> 3\u001b[0m table_slice \u001b[38;5;241m=\u001b[39m (\u001b[43mdf\u001b[49m\u001b[38;5;241m.\u001b[39msort_values(\u001b[38;5;124m'\u001b[39m\u001b[38;5;124mtimestamp\u001b[39m\u001b[38;5;124m'\u001b[39m))\u001b[38;5;241m.\u001b[39miloc[n:\u001b[38;5;241m-\u001b[39mm]\n\u001b[0;32m      4\u001b[0m table_slice\n",
      "\u001b[1;31mNameError\u001b[0m: name 'df' is not defined"
     ]
    }
   ],
   "source": [
    "n = 100\n",
    "m = 100\n",
    "table_slice = (df.sort_values('timestamp')).iloc[n:-m]\n",
    "table_slice"
   ]
  },
  {
   "cell_type": "code",
   "execution_count": 9,
   "id": "9f460e3d-581b-4a41-b9cc-80a4a1e15b76",
   "metadata": {},
   "outputs": [
    {
     "ename": "NameError",
     "evalue": "name 'df' is not defined",
     "output_type": "error",
     "traceback": [
      "\u001b[1;31m---------------------------------------------------------------------------\u001b[0m",
      "\u001b[1;31mNameError\u001b[0m                                 Traceback (most recent call last)",
      "Cell \u001b[1;32mIn[9], line 1\u001b[0m\n\u001b[1;32m----> 1\u001b[0m first_line \u001b[38;5;241m=\u001b[39m (\u001b[43mdf\u001b[49m\u001b[38;5;241m.\u001b[39msort_values(\u001b[38;5;124m'\u001b[39m\u001b[38;5;124mtimestamp\u001b[39m\u001b[38;5;124m'\u001b[39m))\u001b[38;5;241m.\u001b[39miloc[\u001b[38;5;241m0\u001b[39m]\u001b[38;5;241m.\u001b[39mtimestamp\n\u001b[0;32m      2\u001b[0m first_line\n",
      "\u001b[1;31mNameError\u001b[0m: name 'df' is not defined"
     ]
    }
   ],
   "source": [
    "first_line = (df.sort_values('timestamp')).iloc[0].timestamp\n",
    "first_line\n"
   ]
  },
  {
   "cell_type": "code",
   "execution_count": 10,
   "id": "4af779cb-7485-4b8d-8d7a-3d52e210420f",
   "metadata": {},
   "outputs": [
    {
     "ename": "NameError",
     "evalue": "name 'df' is not defined",
     "output_type": "error",
     "traceback": [
      "\u001b[1;31m---------------------------------------------------------------------------\u001b[0m",
      "\u001b[1;31mNameError\u001b[0m                                 Traceback (most recent call last)",
      "Cell \u001b[1;32mIn[10], line 1\u001b[0m\n\u001b[1;32m----> 1\u001b[0m other_var \u001b[38;5;241m=\u001b[39m  (\u001b[43mdf\u001b[49m\u001b[38;5;241m.\u001b[39msort_values(\u001b[38;5;124m'\u001b[39m\u001b[38;5;124mtimestamp\u001b[39m\u001b[38;5;124m'\u001b[39m))\u001b[38;5;241m.\u001b[39mhead(\u001b[38;5;241m1\u001b[39m)\u001b[38;5;241m.\u001b[39mtimestamp\n\u001b[0;32m      2\u001b[0m other_var\n",
      "\u001b[1;31mNameError\u001b[0m: name 'df' is not defined"
     ]
    }
   ],
   "source": [
    "other_var =  (df.sort_values('timestamp')).head(1).timestamp\n",
    "other_var"
   ]
  },
  {
   "cell_type": "code",
   "execution_count": 11,
   "id": "287c9784-0fbf-44f6-842b-8005308cb20d",
   "metadata": {},
   "outputs": [
    {
     "ename": "NameError",
     "evalue": "name 'df' is not defined",
     "output_type": "error",
     "traceback": [
      "\u001b[1;31m---------------------------------------------------------------------------\u001b[0m",
      "\u001b[1;31mNameError\u001b[0m                                 Traceback (most recent call last)",
      "Cell \u001b[1;32mIn[11], line 1\u001b[0m\n\u001b[1;32m----> 1\u001b[0m last_line \u001b[38;5;241m=\u001b[39m (\u001b[43mdf\u001b[49m\u001b[38;5;241m.\u001b[39msort_values(\u001b[38;5;124m'\u001b[39m\u001b[38;5;124mtimestamp\u001b[39m\u001b[38;5;124m'\u001b[39m))\u001b[38;5;241m.\u001b[39miloc[\u001b[38;5;241m-\u001b[39m\u001b[38;5;241m1\u001b[39m]\u001b[38;5;241m.\u001b[39mtimestamp\n\u001b[0;32m      2\u001b[0m last_line \n",
      "\u001b[1;31mNameError\u001b[0m: name 'df' is not defined"
     ]
    }
   ],
   "source": [
    "last_line = (df.sort_values('timestamp')).iloc[-1].timestamp\n",
    "last_line "
   ]
  },
  {
   "cell_type": "code",
   "execution_count": 12,
   "id": "db0f3e45-edd5-4443-81e7-14eb0f0b06b7",
   "metadata": {
    "scrolled": true
   },
   "outputs": [
    {
     "ename": "NameError",
     "evalue": "name 'df' is not defined",
     "output_type": "error",
     "traceback": [
      "\u001b[1;31m---------------------------------------------------------------------------\u001b[0m",
      "\u001b[1;31mNameError\u001b[0m                                 Traceback (most recent call last)",
      "Cell \u001b[1;32mIn[12], line 1\u001b[0m\n\u001b[1;32m----> 1\u001b[0m first_line \u001b[38;5;241m=\u001b[39m (\u001b[43mdf\u001b[49m\u001b[38;5;241m.\u001b[39msort_values(\u001b[38;5;124m'\u001b[39m\u001b[38;5;124mtimestamp\u001b[39m\u001b[38;5;124m'\u001b[39m))\u001b[38;5;241m.\u001b[39miloc[\u001b[38;5;241m0\u001b[39m]\u001b[38;5;241m.\u001b[39mtimestamp\n\u001b[0;32m      2\u001b[0m last_line \u001b[38;5;241m=\u001b[39m (df\u001b[38;5;241m.\u001b[39msort_values(\u001b[38;5;124m'\u001b[39m\u001b[38;5;124mtimestamp\u001b[39m\u001b[38;5;124m'\u001b[39m))\u001b[38;5;241m.\u001b[39miloc[\u001b[38;5;241m-\u001b[39m\u001b[38;5;241m1\u001b[39m]\u001b[38;5;241m.\u001b[39mtimestamp\n\u001b[0;32m      3\u001b[0m first_month \u001b[38;5;241m=\u001b[39m  ((df\u001b[38;5;241m.\u001b[39msort_values(\u001b[38;5;124m'\u001b[39m\u001b[38;5;124mtimestamp\u001b[39m\u001b[38;5;124m'\u001b[39m))\u001b[38;5;241m.\u001b[39miloc[\u001b[38;5;241m0\u001b[39m]\u001b[38;5;241m.\u001b[39mtimestamp)\u001b[38;5;241m.\u001b[39msplit(\u001b[38;5;124m'\u001b[39m\u001b[38;5;124m-\u001b[39m\u001b[38;5;124m'\u001b[39m)\n",
      "\u001b[1;31mNameError\u001b[0m: name 'df' is not defined"
     ]
    }
   ],
   "source": [
    "first_line = (df.sort_values('timestamp')).iloc[0].timestamp\n",
    "last_line = (df.sort_values('timestamp')).iloc[-1].timestamp\n",
    "first_month =  ((df.sort_values('timestamp')).iloc[0].timestamp).split('-')\n",
    "last_month = ((df.sort_values('timestamp')).iloc[-1].timestamp).split('-')\n",
    "first_month[1], last_month[1]\n",
    "# last_month"
   ]
  },
  {
   "cell_type": "code",
   "execution_count": null,
   "id": "d1ae911c-fcf1-45ca-ad49-b052eb3a1cc6",
   "metadata": {},
   "outputs": [],
   "source": []
  },
  {
   "cell_type": "code",
   "execution_count": 13,
   "id": "8e151ce5-2cae-4ecc-8308-b3c9184945aa",
   "metadata": {},
   "outputs": [
    {
     "ename": "NameError",
     "evalue": "name 'df' is not defined",
     "output_type": "error",
     "traceback": [
      "\u001b[1;31m---------------------------------------------------------------------------\u001b[0m",
      "\u001b[1;31mNameError\u001b[0m                                 Traceback (most recent call last)",
      "Cell \u001b[1;32mIn[13], line 1\u001b[0m\n\u001b[1;32m----> 1\u001b[0m first_line \u001b[38;5;241m=\u001b[39m (\u001b[43mdf\u001b[49m\u001b[38;5;241m.\u001b[39msort_values(\u001b[38;5;124m'\u001b[39m\u001b[38;5;124mtimestamp\u001b[39m\u001b[38;5;124m'\u001b[39m))\u001b[38;5;241m.\u001b[39miloc[\u001b[38;5;241m0\u001b[39m]\u001b[38;5;241m.\u001b[39mtimestamp\n\u001b[0;32m      2\u001b[0m first_month \u001b[38;5;241m=\u001b[39m  ((df\u001b[38;5;241m.\u001b[39msort_values(\u001b[38;5;124m'\u001b[39m\u001b[38;5;124mtimestamp\u001b[39m\u001b[38;5;124m'\u001b[39m))\u001b[38;5;241m.\u001b[39miloc[\u001b[38;5;241m0\u001b[39m]\u001b[38;5;241m.\u001b[39mtimestamp)\u001b[38;5;241m.\u001b[39msplit(\u001b[38;5;124m'\u001b[39m\u001b[38;5;124m-\u001b[39m\u001b[38;5;124m'\u001b[39m)\n\u001b[0;32m      3\u001b[0m i \u001b[38;5;241m=\u001b[39m \u001b[38;5;241m0\u001b[39m\n",
      "\u001b[1;31mNameError\u001b[0m: name 'df' is not defined"
     ]
    }
   ],
   "source": [
    "first_line = (df.sort_values('timestamp')).iloc[0].timestamp\n",
    "first_month =  ((df.sort_values('timestamp')).iloc[0].timestamp).split('-')\n",
    "i = 0\n",
    "while ((df.sort_values('timestamp')).iloc[i].timestamp).split('-')[1] == first_month[1]:\n",
    "    i+=1\n",
    "i"
   ]
  },
  {
   "cell_type": "code",
   "execution_count": 14,
   "id": "95301430-f9e0-4962-93c5-ffabab1ff399",
   "metadata": {},
   "outputs": [
    {
     "ename": "NameError",
     "evalue": "name 'df' is not defined",
     "output_type": "error",
     "traceback": [
      "\u001b[1;31m---------------------------------------------------------------------------\u001b[0m",
      "\u001b[1;31mNameError\u001b[0m                                 Traceback (most recent call last)",
      "Cell \u001b[1;32mIn[14], line 1\u001b[0m\n\u001b[1;32m----> 1\u001b[0m last_line \u001b[38;5;241m=\u001b[39m (\u001b[43mdf\u001b[49m\u001b[38;5;241m.\u001b[39msort_values(\u001b[38;5;124m'\u001b[39m\u001b[38;5;124mtimestamp\u001b[39m\u001b[38;5;124m'\u001b[39m))\u001b[38;5;241m.\u001b[39miloc[\u001b[38;5;241m-\u001b[39m\u001b[38;5;241m1\u001b[39m]\u001b[38;5;241m.\u001b[39mtimestamp\n\u001b[0;32m      2\u001b[0m last_month \u001b[38;5;241m=\u001b[39m ((df\u001b[38;5;241m.\u001b[39msort_values(\u001b[38;5;124m'\u001b[39m\u001b[38;5;124mtimestamp\u001b[39m\u001b[38;5;124m'\u001b[39m))\u001b[38;5;241m.\u001b[39miloc[\u001b[38;5;241m-\u001b[39m\u001b[38;5;241m1\u001b[39m]\u001b[38;5;241m.\u001b[39mtimestamp)\u001b[38;5;241m.\u001b[39msplit(\u001b[38;5;124m'\u001b[39m\u001b[38;5;124m-\u001b[39m\u001b[38;5;124m'\u001b[39m)\n\u001b[0;32m      3\u001b[0m i \u001b[38;5;241m=\u001b[39m \u001b[38;5;241m-\u001b[39m\u001b[38;5;241m1\u001b[39m\n",
      "\u001b[1;31mNameError\u001b[0m: name 'df' is not defined"
     ]
    }
   ],
   "source": [
    "last_line = (df.sort_values('timestamp')).iloc[-1].timestamp\n",
    "last_month = ((df.sort_values('timestamp')).iloc[-1].timestamp).split('-')\n",
    "i = -1\n",
    "while ((df.sort_values('timestamp')).iloc[i].timestamp).split('-')[1] == last_month[1]:\n",
    "    i-=1\n",
    "i"
   ]
  },
  {
   "cell_type": "code",
   "execution_count": 15,
   "id": "be11d681-58fb-46d5-9e7d-17ceb9f42e03",
   "metadata": {},
   "outputs": [
    {
     "ename": "NameError",
     "evalue": "name 'df' is not defined",
     "output_type": "error",
     "traceback": [
      "\u001b[1;31m---------------------------------------------------------------------------\u001b[0m",
      "\u001b[1;31mNameError\u001b[0m                                 Traceback (most recent call last)",
      "Cell \u001b[1;32mIn[15], line 1\u001b[0m\n\u001b[1;32m----> 1\u001b[0m table_slice \u001b[38;5;241m=\u001b[39m (\u001b[43mdf\u001b[49m\u001b[38;5;241m.\u001b[39msort_values(\u001b[38;5;124m'\u001b[39m\u001b[38;5;124mtimestamp\u001b[39m\u001b[38;5;124m'\u001b[39m))\u001b[38;5;241m.\u001b[39miloc[\u001b[38;5;241m276\u001b[39m:\u001b[38;5;241m-\u001b[39m\u001b[38;5;241m268\u001b[39m]\n\u001b[0;32m      2\u001b[0m table_slice\n",
      "\u001b[1;31mNameError\u001b[0m: name 'df' is not defined"
     ]
    }
   ],
   "source": [
    "table_slice = (df.sort_values('timestamp')).iloc[276:-268]\n",
    "table_slice"
   ]
  },
  {
   "cell_type": "code",
   "execution_count": 16,
   "id": "cc4fe6fe-b019-4172-8ef1-437d9511a344",
   "metadata": {},
   "outputs": [
    {
     "ename": "NameError",
     "evalue": "name 'df' is not defined",
     "output_type": "error",
     "traceback": [
      "\u001b[1;31m---------------------------------------------------------------------------\u001b[0m",
      "\u001b[1;31mNameError\u001b[0m                                 Traceback (most recent call last)",
      "Cell \u001b[1;32mIn[16], line 1\u001b[0m\n\u001b[1;32m----> 1\u001b[0m table_slice_userid \u001b[38;5;241m=\u001b[39m (\u001b[43mdf\u001b[49m\u001b[38;5;241m.\u001b[39msort_values(\u001b[38;5;124m'\u001b[39m\u001b[38;5;124mtimestamp\u001b[39m\u001b[38;5;124m'\u001b[39m))\u001b[38;5;241m.\u001b[39miloc[\u001b[38;5;241m276\u001b[39m:\u001b[38;5;241m-\u001b[39m\u001b[38;5;241m268\u001b[39m]\u001b[38;5;241m.\u001b[39muserid\n\u001b[0;32m      2\u001b[0m table_slice_userid\n",
      "\u001b[1;31mNameError\u001b[0m: name 'df' is not defined"
     ]
    }
   ],
   "source": [
    "\n",
    "\n",
    "table_slice_userid = (df.sort_values('timestamp')).iloc[276:-268].userid\n",
    "table_slice_userid\n"
   ]
  },
  {
   "cell_type": "code",
   "execution_count": 17,
   "id": "a22da73e-8680-4bca-ae08-e083ee77f251",
   "metadata": {},
   "outputs": [
    {
     "ename": "NameError",
     "evalue": "name 'df' is not defined",
     "output_type": "error",
     "traceback": [
      "\u001b[1;31m---------------------------------------------------------------------------\u001b[0m",
      "\u001b[1;31mNameError\u001b[0m                                 Traceback (most recent call last)",
      "Cell \u001b[1;32mIn[17], line 1\u001b[0m\n\u001b[1;32m----> 1\u001b[0m table_slice_value \u001b[38;5;241m=\u001b[39m (\u001b[43mdf\u001b[49m\u001b[38;5;241m.\u001b[39msort_values(\u001b[38;5;124m'\u001b[39m\u001b[38;5;124mtimestamp\u001b[39m\u001b[38;5;124m'\u001b[39m))\u001b[38;5;241m.\u001b[39miloc[\u001b[38;5;241m276\u001b[39m:\u001b[38;5;241m-\u001b[39m\u001b[38;5;241m268\u001b[39m]\u001b[38;5;241m.\u001b[39mvalue\n\u001b[0;32m      2\u001b[0m table_slice_value\n",
      "\u001b[1;31mNameError\u001b[0m: name 'df' is not defined"
     ]
    }
   ],
   "source": [
    "table_slice_value = (df.sort_values('timestamp')).iloc[276:-268].value\n",
    "table_slice_value\n"
   ]
  },
  {
   "cell_type": "code",
   "execution_count": 18,
   "id": "cbfae98c-1745-4b7c-87a5-ebc0c5898a3c",
   "metadata": {},
   "outputs": [
    {
     "ename": "NameError",
     "evalue": "name 'df' is not defined",
     "output_type": "error",
     "traceback": [
      "\u001b[1;31m---------------------------------------------------------------------------\u001b[0m",
      "\u001b[1;31mNameError\u001b[0m                                 Traceback (most recent call last)",
      "Cell \u001b[1;32mIn[18], line 1\u001b[0m\n\u001b[1;32m----> 1\u001b[0m table_slice_time \u001b[38;5;241m=\u001b[39m (\u001b[43mdf\u001b[49m\u001b[38;5;241m.\u001b[39msort_values(\u001b[38;5;124m'\u001b[39m\u001b[38;5;124mtimestamp\u001b[39m\u001b[38;5;124m'\u001b[39m))\u001b[38;5;241m.\u001b[39miloc[\u001b[38;5;241m276\u001b[39m:\u001b[38;5;241m-\u001b[39m\u001b[38;5;241m268\u001b[39m]\u001b[38;5;241m.\u001b[39mtimestamp\n\u001b[0;32m      2\u001b[0m table_slice_time\n",
      "\u001b[1;31mNameError\u001b[0m: name 'df' is not defined"
     ]
    }
   ],
   "source": [
    "table_slice_time = (df.sort_values('timestamp')).iloc[276:-268].timestamp\n",
    "table_slice_time"
   ]
  },
  {
   "cell_type": "code",
   "execution_count": 19,
   "id": "01fc6389-9f45-4286-a5c5-a19ceb2358ad",
   "metadata": {},
   "outputs": [
    {
     "ename": "ModuleNotFoundError",
     "evalue": "No module named 'pandas'",
     "output_type": "error",
     "traceback": [
      "\u001b[1;31m---------------------------------------------------------------------------\u001b[0m",
      "\u001b[1;31mModuleNotFoundError\u001b[0m                       Traceback (most recent call last)",
      "Cell \u001b[1;32mIn[19], line 1\u001b[0m\n\u001b[1;32m----> 1\u001b[0m \u001b[38;5;28;01mimport\u001b[39;00m \u001b[38;5;21;01mpandas\u001b[39;00m \u001b[38;5;28;01mas\u001b[39;00m \u001b[38;5;21;01mpd\u001b[39;00m\n\u001b[0;32m      2\u001b[0m \u001b[38;5;28;01mimport\u001b[39;00m \u001b[38;5;21;01mdatetime\u001b[39;00m \u001b[38;5;28;01mas\u001b[39;00m \u001b[38;5;21;01mdt\u001b[39;00m\n\u001b[0;32m      3\u001b[0m \u001b[38;5;28;01mimport\u001b[39;00m \u001b[38;5;21;01mmatplotlib\u001b[39;00m \u001b[38;5;28;01mas\u001b[39;00m \u001b[38;5;21;01mplt\u001b[39;00m\n",
      "\u001b[1;31mModuleNotFoundError\u001b[0m: No module named 'pandas'"
     ]
    }
   ],
   "source": [
    "import pandas as pd\n",
    "import datetime as dt\n",
    "import matplotlib as plt\n",
    "import os\n",
    "\n",
    "current_dir = os.getcwd()\n",
    "dir_name = 'data_for_testing'\n",
    "filename = 'variant1.csv'\n",
    "absolute_path = os.path.join(current_dir, dir_name, filename)\n",
    "\n",
    "df = pd.read_csv(filepath_or_buffer=absolute_path, sep=\"\\t\", parse_dates=['timestamp'])\n",
    "\n",
    "\n",
    "# Новые колонки\n",
    "df['date'] = pd.to_datetime(df['timestamp'].dt.strftime(\"%Y-%m-%d\")) \n",
    "df['year'] = df['timestamp'].dt.year\n",
    "df['month'] = df['timestamp'].dt.month\n",
    "df['day'] = df['timestamp'].dt.day\n",
    "\n",
    "df = df.sort_values('timestamp')\n",
    "start_date_year = df\n",
    "start_date_month = df\n",
    "# start_date = df.timestamp.min()\n",
    "# end_date = df.timestamp.max()\n",
    "# start_date, end_date"
   ]
  },
  {
   "cell_type": "code",
   "execution_count": null,
   "id": "bd30b80d-007c-40d1-9763-ce6253fbe1a7",
   "metadata": {},
   "outputs": [],
   "source": []
  },
  {
   "cell_type": "code",
   "execution_count": null,
   "id": "1bb2110a-9539-4deb-a6c9-a01fb7533006",
   "metadata": {},
   "outputs": [],
   "source": []
  }
 ],
 "metadata": {
  "kernelspec": {
   "display_name": "Python 3 (ipykernel)",
   "language": "python",
   "name": "python3"
  },
  "language_info": {
   "codemirror_mode": {
    "name": "ipython",
    "version": 3
   },
   "file_extension": ".py",
   "mimetype": "text/x-python",
   "name": "python",
   "nbconvert_exporter": "python",
   "pygments_lexer": "ipython3",
   "version": "3.12.3"
  }
 },
 "nbformat": 4,
 "nbformat_minor": 5
}
